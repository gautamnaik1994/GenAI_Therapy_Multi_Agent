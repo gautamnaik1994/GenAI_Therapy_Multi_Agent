{
 "cells": [
  {
   "cell_type": "code",
   "execution_count": 1,
   "id": "33ac2862",
   "metadata": {},
   "outputs": [],
   "source": [
    "from dotenv import load_dotenv\n",
    "import os\n",
    "\n",
    "import pandas as pd\n",
    "\n",
    "from langchain_community.chat_models import ChatLlamaCpp\n",
    "from langchain_google_genai import ChatGoogleGenerativeAI\n",
    "from langchain_together import ChatTogether\n",
    "from langchain_openai import ChatOpenAI\n",
    "from langchain_groq import ChatGroq\n",
    "from langgraph.graph import MessagesState\n",
    "from langchain_core.messages import HumanMessage, SystemMessage\n",
    "from langchain.tools import tool\n",
    "from langgraph.graph import START, StateGraph, END\n",
    "from langgraph.prebuilt import ToolNode, tools_condition\n",
    "from IPython.display import Image, display\n",
    "import re\n",
    "import json\n",
    "from langchain_core.messages import AIMessage, HumanMessage\n",
    "from langgraph.prebuilt import create_react_agent\n",
    "\n",
    "from pydantic import BaseModel, Field\n",
    "from typing import List, Dict\n",
    "from enum import Enum\n"
   ]
  },
  {
   "cell_type": "code",
   "execution_count": 2,
   "id": "83f1a98f",
   "metadata": {},
   "outputs": [
    {
     "data": {
      "text/plain": [
       "True"
      ]
     },
     "execution_count": 2,
     "metadata": {},
     "output_type": "execute_result"
    }
   ],
   "source": [
    "load_dotenv()"
   ]
  },
  {
   "cell_type": "code",
   "execution_count": 3,
   "id": "dbe42974",
   "metadata": {},
   "outputs": [],
   "source": [
    "from langchain_core.messages import convert_to_messages\n",
    "\n",
    "\n",
    "def pretty_print_message(message, indent=False):\n",
    "    pretty_message = message.pretty_repr(html=True)\n",
    "    if not indent:\n",
    "        print(pretty_message)\n",
    "        return\n",
    "\n",
    "    indented = \"\\n\".join(\"\\t\" + c for c in pretty_message.split(\"\\n\"))\n",
    "    print(indented)\n",
    "\n",
    "\n",
    "def pretty_print_messages(update, last_message=False):\n",
    "    is_subgraph = False\n",
    "    if isinstance(update, tuple):\n",
    "        ns, update = update\n",
    "        # skip parent graph updates in the printouts\n",
    "        if len(ns) == 0:\n",
    "            return\n",
    "\n",
    "        graph_id = ns[-1].split(\":\")[0]\n",
    "        print(f\"Update from subgraph {graph_id}:\")\n",
    "        print(\"\\n\")\n",
    "        is_subgraph = True\n",
    "\n",
    "    for node_name, node_update in update.items():\n",
    "        update_label = f\"Update from node {node_name}:\"\n",
    "        if is_subgraph:\n",
    "            update_label = \"\\t\" + update_label\n",
    "\n",
    "        print(update_label)\n",
    "        print(\"\\n\")\n",
    "\n",
    "        messages = convert_to_messages(node_update[\"messages\"])\n",
    "        if last_message:\n",
    "            messages = messages[-1:]\n",
    "\n",
    "        for m in messages:\n",
    "            pretty_print_message(m, indent=is_subgraph)\n",
    "        print(\"\\n\")"
   ]
  },
  {
   "cell_type": "code",
   "execution_count": 4,
   "id": "9668e631",
   "metadata": {},
   "outputs": [],
   "source": [
    "LOCAL_MODEL_PATH = \"/Users/gautamnaik/models/Nous-Hermes-2-Mistral-7B-DPO.Q8_0.gguf\"\n",
    "# LOCAL_MODEL_PATH = \"/Users/gautamnaik/models/llama-3-8B-function-calling-Q8_0.gguf\"\n",
    "# LOCAL_MODEL_PATH = \"/Users/gautamnaik/models/functionary/functionary-7b-v2.q8_0.gguf\""
   ]
  },
  {
   "cell_type": "code",
   "execution_count": 7,
   "id": "c2c21122",
   "metadata": {},
   "outputs": [],
   "source": [
    "\n",
    "tools = []\n",
    "\n",
    "def get_local_llm():\n",
    "    return ChatLlamaCpp(\n",
    "        model_path=LOCAL_MODEL_PATH,\n",
    "        temperature=0,\n",
    "        max_tokens=512,\n",
    "        n_ctx=2048,\n",
    "        n_batch=512,\n",
    "        n_threads=8,\n",
    "        verbose=False,\n",
    "    )\n",
    "\n",
    "def get_google_llm():\n",
    "    return ChatGoogleGenerativeAI(\n",
    "        temperature=0,\n",
    "        max_output_tokens=512,\n",
    "        model=\"gemini-2.0-flash\",\n",
    "        # model=\"gemini-2.5-flash-preview-05-20\",\n",
    "        #  model= \"gemini-2.5-pro-preview-05-06\",\n",
    "        verbose=False,\n",
    "    )\n",
    "\n",
    "def get_groq_llm():\n",
    "    return ChatGroq(\n",
    "        model=\"qwen-qwq-32b\",\n",
    "        temperature=0,\n",
    "    )\n",
    "\n",
    "def get_chat_together_llm():\n",
    "    return ChatTogether(\n",
    "        api_key=os.getenv(\"TOGETHER_AI_API_KEY\"),\n",
    "        temperature=0.0,\n",
    "        model=\"meta-llama/Llama-3.3-70B-Instruct-Turbo-Free\"\n",
    "    )\n",
    "\n",
    "def get_openai_llm():\n",
    "    return ChatOpenAI(\n",
    "        model=\"gpt-4.1\",\n",
    "        temperature=0.0,\n",
    "        api_key=os.getenv(\"OPENAI_API_KEY\"),\n",
    "        verbose=False,\n",
    "    )\n"
   ]
  },
  {
   "cell_type": "code",
   "execution_count": 8,
   "id": "2a0b86f6",
   "metadata": {},
   "outputs": [],
   "source": [
    "def pre_model_hook(args) -> None:\n",
    "    \"\"\"\n",
    "    This function is called before the model is invoked.\n",
    "    It can be used to set up any necessary state or context.\n",
    "    \"\"\"\n",
    "    print(\"Pre-model hook called.\", args)\n",
    "\n",
    "class ClassificationResult(BaseModel):\n",
    "    classification: str = Field(\n",
    "        description=\"The classification result, one of: Anxiety, Depression, Both, Neither\"\n",
    "    )\n",
    "    confidence: str = Field(\n",
    "        description=\"The confidence level of the classification, one of: Low, Medium, High\"\n",
    "    )\n",
    "    reasoning: str = Field(\n",
    "        description=\"A concise explanation of why this classification was made\"\n",
    "    )\n",
    "    supporting_symptoms: List[str] = Field(\n",
    "        description=\"A list of brief symptoms supporting the classification\"\n",
    "    )\n",
    "\n",
    "\n",
    "supervisor = create_react_agent(\n",
    "    model=get_chat_together_llm(),\n",
    "    tools=[],\n",
    "    prompt=(\n",
    "      \"\"\"\n",
    "        You are a clinical classification assistant trained to detect anxiety and depression from structured therapy session data. Your task is to review psychological symptoms, mental status, client quotes, and other clinical observations to determine whether the patient likely has:\n",
    "\n",
    "        - Anxiety\n",
    "        - Depression\n",
    "        - Both anxiety and depression\n",
    "        - Neither\n",
    "\n",
    "        Base your reasoning on the GAD-7 and PHQ-9 criteria.\n",
    "\n",
    "        Return your output as a structured JSON object with the following fields:\n",
    "        {\n",
    "        \"classification\": \"<Anxiety | Depression | Both | Neither>\",\n",
    "        \"confidence\": \"<Low | Medium | High>\",\n",
    "        \"reasoning\": \"<A concise explanation of why this classification was made>\",\n",
    "        \"supporting_symptoms\": [\"<brief symptom 1>\", \"<brief symptom 2>\", ...]\n",
    "        }\n",
    "        Do not hallucinate diagnoses. Only rely on information present in the input.\n",
    "    \"\"\"\n",
    "    ),\n",
    "    name=\"supervisor\",\n",
    "    pre_model_hook=pre_model_hook,\n",
    "    response_format=ClassificationResult.model_json_schema()\n",
    ")\n",
    "\n",
    "# for chunk in gad_7_scorer_agent.stream(\n",
    "#     {\"messages\": [{\"role\": \"user\", \"content\": \"\"\" \n",
    "# ```json\\n\n",
    "#     '[{\"therapy_session_number\": 1, \"client_id\": \"client1\", \"chief_complaint\": \"The client reported feeling anxious and stressed recently, which is unusual for him. He also mentioned a tendency to take on tasks and procrastinate, leading to feelings of being overwhelmed.\", \"symptoms\": [{\"description\": \"Anxiety and stress\", \"onset\": \"Approximately six weeks ago\", \"frequency\": \"Intermittent, with episodes lasting a couple of weeks\", \"ascendance\": \"The symptoms have leveled off after the initial episodes\", \"intensity\": \"Moderate\", \"duration\": \"Approximately six weeks\", \"quote\": \"\\\\\"I probably, probably a couple of, maybe six weeks ago, something. Yeah, I see that as quite recent.\\\\\"\"}], \"diagnosis\": [{\"dsm_5_diagnosis\": \"Generalized Anxiety Disorder\", \"dsm_5_code\": \"300.02\", \"icd_10_code\": \"F41.1\"}], \"mood_and_affect\": \"The client\\'s mood was anxious, and his affect was congruent with his reported experiences.\", \"speech_and_language\": \"The client\\'s speech was coherent, structured, and pertinent to the context.\", \"thought_process_and_content\": \"The client\\'s thought process was organized, and his content was relevant to the discussion.\", \"orientation\": \"The client was oriented to person, place, time, and situation.\", \"perceptual_disturbances\": \"No perceptual disturbances were reported or observed.\", \"cognition\": \"The client\\'s cognitive functioning appeared intact, with no significant deficits in memory, attention, or concentration.\", \"insight\": \"The client demonstrated a good level of insight into his symptoms and behaviors, recognizing the impact of his anxiety and stress on his functioning.\", \"risks_or_safety_concerns\": \"No Indication of Risk\", \"hopelessness\": \"No hopelessness expressed or observed.\", \"suicidal_thoughts_or_attempts\": \"No suicidal thoughts or attempts reported or suspected.\", \"self_harm\": \"No self-harm reported or suspected.\", \"dangerous_to_others\": \"No danger to others reported or suspected.\", \"risk_quote\": \"NA\", \"response_to_treatment\": \"NA\"}, {\"therapy_session_number\": 2, \"client_id\": \"client1\", \"chief_complaint\": \"The client reported a significant reduction in anxiety and stress. He mentioned feeling more confident in managing tasks and setting boundaries.\", \"symptoms\": [{\"description\": \"Anxiety and stress\", \"onset\": \"Six weeks ago, significantly reduced in the past two weeks\", \"frequency\": \"Occasional, with noticeable improvement\", \"ascendance\": \"Symptoms have decreased following the application of therapy strategies\", \"intensity\": \"Mild\", \"duration\": \"Minimal symptoms over the past two weeks\", \"quote\": \"\\\\\"I\\\\u2019ve noticed the anxiety and stress have lessened, especially after focusing on setting boundaries.\\\\\"\"}], \"diagnosis\": [{\"dsm_5_diagnosis\": \"Generalized Anxiety Disorder\", \"dsm_5_code\": \"300.02\", \"icd_10_code\": \"F41.1\"}], \"mood_and_affect\": \"The client\\'s mood was positive, and his affect was congruent with his reported improvements.\", \"speech_and_language\": \"The client\\'s speech was coherent, upbeat, and reflective of his progress.\", \"thought_process_and_content\": \"The client\\'s thought process was organized, and his content was focused on the positive changes he has made.\", \"orientation\": \"The client was oriented to person, place, time, and situation.\", \"perceptual_disturbances\": \"No perceptual disturbances were reported or observed.\", \"cognition\": \"The client\\'s cognitive functioning appeared intact, with no significant deficits in memory, attention, or concentration.\", \"insight\": \"The client demonstrated a strong level of insight into his progress, recognizing the positive impact of the strategies he has implemented.\", \"risks_or_safety_concerns\": \"No Indication of Risk\", \"hopelessness\": \"No hopelessness expressed or observed.\", \"suicidal_thoughts_or_attempts\": \"No suicidal thoughts or attempts reported or suspected.\", \"self_harm\": \"No self-harm reported or suspected.\", \"dangerous_to_others\": \"No danger to others reported or suspected.\", \"risk_quote\": \"NA\", \"response_to_treatment\": \"The client has shown significant improvement, actively participating in therapy and implementing the strategies discussed.\"}]'\n",
    "# \"\"\"}]}\n",
    "# ):\n",
    "#     pretty_print_messages(chunk)"
   ]
  },
  {
   "cell_type": "code",
   "execution_count": 9,
   "id": "08ea50b6",
   "metadata": {},
   "outputs": [
    {
     "name": "stdout",
     "output_type": "stream",
     "text": [
      "Pre-model hook called. {'messages': [HumanMessage(content='\\n```json\\n\\n\\'{\\n    \"chief_complaint\": \"The client reported a significant reduction in anxiety and stress. He mentioned feeling more confident in managing tasks and setting boundaries.\",\\n    \"symptoms\": {\\n        \"Symptom 1\": {\\n            \"Description\": \"Anxiety and stress\",\\n            \"Onset\": \"Six weeks ago, significantly reduced in the past two weeks\",\\n            \"Frequency\": \"Occasional, with noticeable improvement\",\\n            \"Ascendance\": \"Symptoms have decreased following the application of therapy strategies\",\\n            \"Intensity\": \"Mild\",\\n            \"Duration\": \"Minimal symptoms over the past two weeks\",\\n            \"Quote (Symptom)\": \"\\\\\"I\\\\u2019ve noticed the anxiety and stress have lessened, especially after focusing on setting boundaries.\\\\\"\"\\n        }\\n    },\\n    \"mood_and_affect\": \"The client\\'s mood was positive, and his affect was congruent with his reported improvements.\",\\n    \"thought_content\": \"The client\\'s thought process was organized, and his content was focused on the positive changes he has made.\",\\n    \"cognition\": \"The client\\'s cognitive functioning appeared intact, with no significant deficits in memory, attention, or concentration.\",\\n    \"hopelessness\": \"No hopelessness expressed or observed.\",\\n    \"suicidal_thoughts\": \"No suicidal thoughts or attempts reported or suspected.\",\\n    \"sleep\": \"Improved sleep patterns were reported, with more restful nights.\",\\n    \"diagnosis\": {\\n        \"Diagnosis 1\": {\\n            \"Description\": \"Generalized Anxiety Disorder\",\\n            \"DSM- Code\": \"300.02\",\\n            \"ICD- Code\": \"F41.1\",\\n            \"Reasoning\": \"Although the client continues to show signs of anxiety, the symptoms have significantly reduced, indicating positive progress towards managing the disorder.\"\\n        }\\n    },\\n    \"client_quotes\": {\\n        \"chief_complaint_quote\": \"\\\\\"I\\\\u2019ve been feeling a lot better lately, more in control and less overwhelmed.\\\\\"\",\\n        \"symptom_quotes\": [\\n            \"\\\\\"I\\\\u2019ve noticed the anxiety and stress have lessened, especially after focusing on setting boundaries.\\\\\"\"\\n        ],\\n        \"risk_quote\": \"NA\"\\n    }\\n}\\'\\n```\\n', additional_kwargs={}, response_metadata={}, id='73eb40d8-eb5b-465a-b4e3-6fd0471128ff')], 'is_last_step': False, 'remaining_steps': 24}\n"
     ]
    }
   ],
   "source": [
    "res = supervisor.invoke(\n",
    "    {\"messages\": [{\"role\": \"user\", \"content\": \"\"\"\n",
    "```json\\n\n",
    "'{\\n    \"chief_complaint\": \"The client reported a significant reduction in anxiety and stress. He mentioned feeling more confident in managing tasks and setting boundaries.\",\\n    \"symptoms\": {\\n        \"Symptom 1\": {\\n            \"Description\": \"Anxiety and stress\",\\n            \"Onset\": \"Six weeks ago, significantly reduced in the past two weeks\",\\n            \"Frequency\": \"Occasional, with noticeable improvement\",\\n            \"Ascendance\": \"Symptoms have decreased following the application of therapy strategies\",\\n            \"Intensity\": \"Mild\",\\n            \"Duration\": \"Minimal symptoms over the past two weeks\",\\n            \"Quote (Symptom)\": \"\\\\\"I\\\\u2019ve noticed the anxiety and stress have lessened, especially after focusing on setting boundaries.\\\\\"\"\\n        }\\n    },\\n    \"mood_and_affect\": \"The client\\'s mood was positive, and his affect was congruent with his reported improvements.\",\\n    \"thought_content\": \"The client\\'s thought process was organized, and his content was focused on the positive changes he has made.\",\\n    \"cognition\": \"The client\\'s cognitive functioning appeared intact, with no significant deficits in memory, attention, or concentration.\",\\n    \"hopelessness\": \"No hopelessness expressed or observed.\",\\n    \"suicidal_thoughts\": \"No suicidal thoughts or attempts reported or suspected.\",\\n    \"sleep\": \"Improved sleep patterns were reported, with more restful nights.\",\\n    \"diagnosis\": {\\n        \"Diagnosis 1\": {\\n            \"Description\": \"Generalized Anxiety Disorder\",\\n            \"DSM- Code\": \"300.02\",\\n            \"ICD- Code\": \"F41.1\",\\n            \"Reasoning\": \"Although the client continues to show signs of anxiety, the symptoms have significantly reduced, indicating positive progress towards managing the disorder.\"\\n        }\\n    },\\n    \"client_quotes\": {\\n        \"chief_complaint_quote\": \"\\\\\"I\\\\u2019ve been feeling a lot better lately, more in control and less overwhelmed.\\\\\"\",\\n        \"symptom_quotes\": [\\n            \"\\\\\"I\\\\u2019ve noticed the anxiety and stress have lessened, especially after focusing on setting boundaries.\\\\\"\"\\n        ],\\n        \"risk_quote\": \"NA\"\\n    }\\n}'\n",
    "```\n",
    "\"\"\" }]},\n",
    ")"
   ]
  },
  {
   "cell_type": "code",
   "execution_count": null,
   "id": "1bef63e1",
   "metadata": {},
   "outputs": [
    {
     "data": {
      "text/plain": [
       "{'messages': [HumanMessage(content='\\n```json\\n\\n\\'{\\n    \"chief_complaint\": \"The client reported a significant reduction in anxiety and stress. He mentioned feeling more confident in managing tasks and setting boundaries.\",\\n    \"symptoms\": {\\n        \"Symptom 1\": {\\n            \"Description\": \"Anxiety and stress\",\\n            \"Onset\": \"Six weeks ago, significantly reduced in the past two weeks\",\\n            \"Frequency\": \"Occasional, with noticeable improvement\",\\n            \"Ascendance\": \"Symptoms have decreased following the application of therapy strategies\",\\n            \"Intensity\": \"Mild\",\\n            \"Duration\": \"Minimal symptoms over the past two weeks\",\\n            \"Quote (Symptom)\": \"\\\\\"I\\\\u2019ve noticed the anxiety and stress have lessened, especially after focusing on setting boundaries.\\\\\"\"\\n        }\\n    },\\n    \"mood_and_affect\": \"The client\\'s mood was positive, and his affect was congruent with his reported improvements.\",\\n    \"thought_content\": \"The client\\'s thought process was organized, and his content was focused on the positive changes he has made.\",\\n    \"cognition\": \"The client\\'s cognitive functioning appeared intact, with no significant deficits in memory, attention, or concentration.\",\\n    \"hopelessness\": \"No hopelessness expressed or observed.\",\\n    \"suicidal_thoughts\": \"No suicidal thoughts or attempts reported or suspected.\",\\n    \"sleep\": \"Improved sleep patterns were reported, with more restful nights.\",\\n    \"diagnosis\": {\\n        \"Diagnosis 1\": {\\n            \"Description\": \"Generalized Anxiety Disorder\",\\n            \"DSM- Code\": \"300.02\",\\n            \"ICD- Code\": \"F41.1\",\\n            \"Reasoning\": \"Although the client continues to show signs of anxiety, the symptoms have significantly reduced, indicating positive progress towards managing the disorder.\"\\n        }\\n    },\\n    \"client_quotes\": {\\n        \"chief_complaint_quote\": \"\\\\\"I\\\\u2019ve been feeling a lot better lately, more in control and less overwhelmed.\\\\\"\",\\n        \"symptom_quotes\": [\\n            \"\\\\\"I\\\\u2019ve noticed the anxiety and stress have lessened, especially after focusing on setting boundaries.\\\\\"\"\\n        ],\\n        \"risk_quote\": \"NA\"\\n    }\\n}\\'\\n```\\n', additional_kwargs={}, response_metadata={}, id='73eb40d8-eb5b-465a-b4e3-6fd0471128ff'),\n",
       "  AIMessage(content='```json\\n{\\n    \"classification\": \"Anxiety\",\\n    \"confidence\": \"High\",\\n    \"reasoning\": \"The client\\'s symptoms and quotes indicate a significant reduction in anxiety, but the presence of mild anxiety symptoms and a diagnosis of Generalized Anxiety Disorder (GAD) suggest that anxiety is still present. The client\\'s positive mood, organized thought process, and lack of hopelessness or suicidal thoughts suggest that depression is not currently present.\",\\n    \"supporting_symptoms\": [\\n        \"Mild anxiety symptoms\",\\n        \"Reduced stress\",\\n        \"Improved sleep patterns\",\\n        \"Increased confidence in managing tasks and setting boundaries\"\\n    ]\\n}\\n```\\n\\nNote: The GAD-7 criteria for anxiety disorder are not fully met as the symptoms have significantly reduced, but the client still experiences mild anxiety symptoms. The PHQ-9 criteria for depression are not met as there is no indication of depressed mood, anhedonia, or other depressive symptoms.', additional_kwargs={'refusal': None}, response_metadata={'token_usage': {'completion_tokens': 194, 'prompt_tokens': 665, 'total_tokens': 859, 'completion_tokens_details': None, 'prompt_tokens_details': None, 'cached_tokens': 0}, 'model_name': 'meta-llama/Llama-3.3-70B-Instruct-Turbo-Free', 'system_fingerprint': None, 'finish_reason': 'stop', 'logprobs': None}, name='supervisor', id='run--0d757765-d552-44fa-8221-b7297d188011-0', usage_metadata={'input_tokens': 665, 'output_tokens': 194, 'total_tokens': 859, 'input_token_details': {}, 'output_token_details': {}})],\n",
       " 'structured_response': {'classification': 'Anxiety',\n",
       "  'confidence': 'High',\n",
       "  'reasoning': \"The client's symptoms and quotes indicate a significant reduction in anxiety, but the presence of mild anxiety symptoms and a diagnosis of Generalized Anxiety Disorder (GAD) suggest that anxiety is still present. The client's positive mood, organized thought process, and lack of hopelessness or suicidal thoughts suggest that depression is not currently present.\",\n",
       "  'supporting_symptoms': ['Mild anxiety symptoms',\n",
       "   'Reduced stress',\n",
       "   'Improved sleep patterns',\n",
       "   'Increased confidence in managing tasks and setting boundaries']}}"
      ]
     },
     "execution_count": 15,
     "metadata": {},
     "output_type": "execute_result"
    }
   ],
   "source": [
    "res"
   ]
  },
  {
   "cell_type": "code",
   "execution_count": 18,
   "id": "063320da",
   "metadata": {},
   "outputs": [
    {
     "data": {
      "text/plain": [
       "[HumanMessage(content='\\n```json\\n\\n\\'{\\n    \"chief_complaint\": \"The client reported a significant reduction in anxiety and stress. He mentioned feeling more confident in managing tasks and setting boundaries.\",\\n    \"symptoms\": {\\n        \"Symptom 1\": {\\n            \"Description\": \"Anxiety and stress\",\\n            \"Onset\": \"Six weeks ago, significantly reduced in the past two weeks\",\\n            \"Frequency\": \"Occasional, with noticeable improvement\",\\n            \"Ascendance\": \"Symptoms have decreased following the application of therapy strategies\",\\n            \"Intensity\": \"Mild\",\\n            \"Duration\": \"Minimal symptoms over the past two weeks\",\\n            \"Quote (Symptom)\": \"\\\\\"I\\\\u2019ve noticed the anxiety and stress have lessened, especially after focusing on setting boundaries.\\\\\"\"\\n        }\\n    },\\n    \"mood_and_affect\": \"The client\\'s mood was positive, and his affect was congruent with his reported improvements.\",\\n    \"thought_content\": \"The client\\'s thought process was organized, and his content was focused on the positive changes he has made.\",\\n    \"cognition\": \"The client\\'s cognitive functioning appeared intact, with no significant deficits in memory, attention, or concentration.\",\\n    \"hopelessness\": \"No hopelessness expressed or observed.\",\\n    \"suicidal_thoughts\": \"No suicidal thoughts or attempts reported or suspected.\",\\n    \"sleep\": \"Improved sleep patterns were reported, with more restful nights.\",\\n    \"diagnosis\": {\\n        \"Diagnosis 1\": {\\n            \"Description\": \"Generalized Anxiety Disorder\",\\n            \"DSM- Code\": \"300.02\",\\n            \"ICD- Code\": \"F41.1\",\\n            \"Reasoning\": \"Although the client continues to show signs of anxiety, the symptoms have significantly reduced, indicating positive progress towards managing the disorder.\"\\n        }\\n    },\\n    \"client_quotes\": {\\n        \"chief_complaint_quote\": \"\\\\\"I\\\\u2019ve been feeling a lot better lately, more in control and less overwhelmed.\\\\\"\",\\n        \"symptom_quotes\": [\\n            \"\\\\\"I\\\\u2019ve noticed the anxiety and stress have lessened, especially after focusing on setting boundaries.\\\\\"\"\\n        ],\\n        \"risk_quote\": \"NA\"\\n    }\\n}\\'\\n```\\n', additional_kwargs={}, response_metadata={}, id='73eb40d8-eb5b-465a-b4e3-6fd0471128ff'),\n",
       " AIMessage(content='```json\\n{\\n    \"classification\": \"Anxiety\",\\n    \"confidence\": \"High\",\\n    \"reasoning\": \"The client\\'s symptoms and quotes indicate a significant reduction in anxiety, but the presence of mild anxiety symptoms and a diagnosis of Generalized Anxiety Disorder (GAD) suggest that anxiety is still present. The client\\'s positive mood, organized thought process, and lack of hopelessness or suicidal thoughts suggest that depression is not currently present.\",\\n    \"supporting_symptoms\": [\\n        \"Mild anxiety symptoms\",\\n        \"Reduced stress\",\\n        \"Improved sleep patterns\",\\n        \"Increased confidence in managing tasks and setting boundaries\"\\n    ]\\n}\\n```\\n\\nNote: The GAD-7 criteria for anxiety disorder are not fully met as the symptoms have significantly reduced, but the client still experiences mild anxiety symptoms. The PHQ-9 criteria for depression are not met as there is no indication of depressed mood, anhedonia, or other depressive symptoms.', additional_kwargs={'refusal': None}, response_metadata={'token_usage': {'completion_tokens': 194, 'prompt_tokens': 665, 'total_tokens': 859, 'completion_tokens_details': None, 'prompt_tokens_details': None, 'cached_tokens': 0}, 'model_name': 'meta-llama/Llama-3.3-70B-Instruct-Turbo-Free', 'system_fingerprint': None, 'finish_reason': 'stop', 'logprobs': None}, name='supervisor', id='run--0d757765-d552-44fa-8221-b7297d188011-0', usage_metadata={'input_tokens': 665, 'output_tokens': 194, 'total_tokens': 859, 'input_token_details': {}, 'output_token_details': {}})]"
      ]
     },
     "execution_count": 18,
     "metadata": {},
     "output_type": "execute_result"
    }
   ],
   "source": [
    "res[\"messages\"]"
   ]
  },
  {
   "cell_type": "code",
   "execution_count": 26,
   "id": "e27d3e33",
   "metadata": {},
   "outputs": [
    {
     "data": {
      "text/plain": [
       "{'classification': 'Anxiety',\n",
       " 'confidence': 'High',\n",
       " 'reasoning': \"The client's symptoms and quotes indicate a significant reduction in anxiety, but the presence of mild anxiety symptoms and a diagnosis of Generalized Anxiety Disorder suggest that anxiety is still present.\",\n",
       " 'supporting_symptoms': ['Mild anxiety symptoms',\n",
       "  'Reduced stress',\n",
       "  'Improved sleep patterns',\n",
       "  'Client quote: \"I\\'ve noticed the anxiety and stress have lessened, especially after focusing on setting boundaries.\"']}"
      ]
     },
     "execution_count": 26,
     "metadata": {},
     "output_type": "execute_result"
    }
   ],
   "source": [
    "res[\"structured_response\"]"
   ]
  },
  {
   "cell_type": "code",
   "execution_count": 13,
   "id": "5da7b0ea",
   "metadata": {},
   "outputs": [
    {
     "data": {
      "text/plain": [
       "dict"
      ]
     },
     "execution_count": 13,
     "metadata": {},
     "output_type": "execute_result"
    }
   ],
   "source": [
    "type(res[\"structured_response\"])"
   ]
  },
  {
   "cell_type": "code",
   "execution_count": 14,
   "id": "e468e640",
   "metadata": {},
   "outputs": [
    {
     "data": {
      "text/plain": [
       "ClassificationResult(classification='Anxiety', confidence='High', reasoning=\"The client's symptoms and quotes indicate a significant reduction in anxiety, but the presence of mild anxiety symptoms and a diagnosis of Generalized Anxiety Disorder (GAD) suggest that anxiety is still present. The client's positive mood, organized thought process, and lack of hopelessness or suicidal thoughts suggest that depression is not currently present.\", supporting_symptoms=['Mild anxiety symptoms', 'Reduced stress', 'Improved sleep patterns', 'Increased confidence in managing tasks and setting boundaries'])"
      ]
     },
     "execution_count": 14,
     "metadata": {},
     "output_type": "execute_result"
    }
   ],
   "source": [
    "ClassificationResult.model_validate(res[\"structured_response\"])"
   ]
  },
  {
   "cell_type": "code",
   "execution_count": 27,
   "id": "c933f3fc",
   "metadata": {},
   "outputs": [
    {
     "ename": "TypeError",
     "evalue": "the JSON object must be str, bytes or bytearray, not dict",
     "output_type": "error",
     "traceback": [
      "\u001b[0;31m---------------------------------------------------------------------------\u001b[0m",
      "\u001b[0;31mTypeError\u001b[0m                                 Traceback (most recent call last)",
      "Cell \u001b[0;32mIn[27], line 1\u001b[0m\n\u001b[0;32m----> 1\u001b[0m \u001b[43mjson\u001b[49m\u001b[38;5;241;43m.\u001b[39;49m\u001b[43mloads\u001b[49m\u001b[43m(\u001b[49m\u001b[43mres\u001b[49m\u001b[43m[\u001b[49m\u001b[38;5;124;43m\"\u001b[39;49m\u001b[38;5;124;43mstructured_response\u001b[39;49m\u001b[38;5;124;43m\"\u001b[39;49m\u001b[43m]\u001b[49m\u001b[43m)\u001b[49m\n",
      "File \u001b[0;32m/opt/miniconda3/lib/python3.12/json/__init__.py:339\u001b[0m, in \u001b[0;36mloads\u001b[0;34m(s, cls, object_hook, parse_float, parse_int, parse_constant, object_pairs_hook, **kw)\u001b[0m\n\u001b[1;32m    337\u001b[0m \u001b[38;5;28;01melse\u001b[39;00m:\n\u001b[1;32m    338\u001b[0m     \u001b[38;5;28;01mif\u001b[39;00m \u001b[38;5;129;01mnot\u001b[39;00m \u001b[38;5;28misinstance\u001b[39m(s, (\u001b[38;5;28mbytes\u001b[39m, \u001b[38;5;28mbytearray\u001b[39m)):\n\u001b[0;32m--> 339\u001b[0m         \u001b[38;5;28;01mraise\u001b[39;00m \u001b[38;5;167;01mTypeError\u001b[39;00m(\u001b[38;5;124mf\u001b[39m\u001b[38;5;124m'\u001b[39m\u001b[38;5;124mthe JSON object must be str, bytes or bytearray, \u001b[39m\u001b[38;5;124m'\u001b[39m\n\u001b[1;32m    340\u001b[0m                         \u001b[38;5;124mf\u001b[39m\u001b[38;5;124m'\u001b[39m\u001b[38;5;124mnot \u001b[39m\u001b[38;5;132;01m{\u001b[39;00ms\u001b[38;5;241m.\u001b[39m\u001b[38;5;18m__class__\u001b[39m\u001b[38;5;241m.\u001b[39m\u001b[38;5;18m__name__\u001b[39m\u001b[38;5;132;01m}\u001b[39;00m\u001b[38;5;124m'\u001b[39m)\n\u001b[1;32m    341\u001b[0m     s \u001b[38;5;241m=\u001b[39m s\u001b[38;5;241m.\u001b[39mdecode(detect_encoding(s), \u001b[38;5;124m'\u001b[39m\u001b[38;5;124msurrogatepass\u001b[39m\u001b[38;5;124m'\u001b[39m)\n\u001b[1;32m    343\u001b[0m \u001b[38;5;28;01mif\u001b[39;00m (\u001b[38;5;28mcls\u001b[39m \u001b[38;5;129;01mis\u001b[39;00m \u001b[38;5;28;01mNone\u001b[39;00m \u001b[38;5;129;01mand\u001b[39;00m object_hook \u001b[38;5;129;01mis\u001b[39;00m \u001b[38;5;28;01mNone\u001b[39;00m \u001b[38;5;129;01mand\u001b[39;00m\n\u001b[1;32m    344\u001b[0m         parse_int \u001b[38;5;129;01mis\u001b[39;00m \u001b[38;5;28;01mNone\u001b[39;00m \u001b[38;5;129;01mand\u001b[39;00m parse_float \u001b[38;5;129;01mis\u001b[39;00m \u001b[38;5;28;01mNone\u001b[39;00m \u001b[38;5;129;01mand\u001b[39;00m\n\u001b[1;32m    345\u001b[0m         parse_constant \u001b[38;5;129;01mis\u001b[39;00m \u001b[38;5;28;01mNone\u001b[39;00m \u001b[38;5;129;01mand\u001b[39;00m object_pairs_hook \u001b[38;5;129;01mis\u001b[39;00m \u001b[38;5;28;01mNone\u001b[39;00m \u001b[38;5;129;01mand\u001b[39;00m \u001b[38;5;129;01mnot\u001b[39;00m kw):\n",
      "\u001b[0;31mTypeError\u001b[0m: the JSON object must be str, bytes or bytearray, not dict"
     ]
    }
   ],
   "source": [
    "json.loads(res[\"structured_response\"])"
   ]
  },
  {
   "cell_type": "code",
   "execution_count": null,
   "id": "2ccfbec8",
   "metadata": {},
   "outputs": [],
   "source": []
  }
 ],
 "metadata": {
  "kernelspec": {
   "display_name": "base",
   "language": "python",
   "name": "python3"
  },
  "language_info": {
   "codemirror_mode": {
    "name": "ipython",
    "version": 3
   },
   "file_extension": ".py",
   "mimetype": "text/x-python",
   "name": "python",
   "nbconvert_exporter": "python",
   "pygments_lexer": "ipython3",
   "version": "3.12.2"
  }
 },
 "nbformat": 4,
 "nbformat_minor": 5
}
