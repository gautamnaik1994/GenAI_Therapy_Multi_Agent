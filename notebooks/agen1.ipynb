{
 "cells": [
  {
   "cell_type": "code",
   "execution_count": 4,
   "id": "33ac2862",
   "metadata": {},
   "outputs": [],
   "source": [
    "from dotenv import load_dotenv\n",
    "import os\n",
    "\n",
    "import pandas as pd\n",
    "\n",
    "from langchain_community.chat_models import ChatLlamaCpp\n",
    "from langchain_google_genai import ChatGoogleGenerativeAI\n",
    "from langchain_together import ChatTogether\n",
    "from langchain_openai import ChatOpenAI\n",
    "from langchain_groq import ChatGroq\n",
    "from langgraph.graph import MessagesState\n",
    "from langchain_core.messages import HumanMessage, SystemMessage\n",
    "from langchain.tools import tool\n",
    "from langgraph.graph import START, StateGraph, END\n",
    "from langgraph.prebuilt import ToolNode, tools_condition\n",
    "from IPython.display import Image, display\n",
    "import re\n",
    "import json\n",
    "from langchain_core.messages import AIMessage, HumanMessage\n",
    "\n"
   ]
  },
  {
   "cell_type": "code",
   "execution_count": 5,
   "id": "83f1a98f",
   "metadata": {},
   "outputs": [
    {
     "data": {
      "text/plain": [
       "True"
      ]
     },
     "execution_count": 5,
     "metadata": {},
     "output_type": "execute_result"
    }
   ],
   "source": [
    "load_dotenv()"
   ]
  },
  {
   "cell_type": "code",
   "execution_count": 6,
   "id": "9668e631",
   "metadata": {},
   "outputs": [],
   "source": [
    "LOCAL_MODEL_PATH = \"/Users/gautamnaik/models/Nous-Hermes-2-Mistral-7B-DPO.Q8_0.gguf\"\n",
    "# LOCAL_MODEL_PATH = \"/Users/gautamnaik/models/llama-3-8B-function-calling-Q8_0.gguf\"\n",
    "# LOCAL_MODEL_PATH = \"/Users/gautamnaik/models/functionary/functionary-7b-v2.q8_0.gguf\""
   ]
  },
  {
   "cell_type": "code",
   "execution_count": null,
   "id": "c2c21122",
   "metadata": {},
   "outputs": [],
   "source": [
    "\n",
    "\n",
    "tools = []\n",
    "\n",
    "\n",
    "def get_local_llm():\n",
    "    return ChatLlamaCpp(\n",
    "        model_path=LOCAL_MODEL_PATH,\n",
    "        temperature=0,\n",
    "        max_tokens=512,\n",
    "        n_ctx=2048,\n",
    "        n_batch=512,\n",
    "        n_threads=8,\n",
    "        verbose=False,\n",
    "    )\n",
    "\n",
    "def get_google_llm():\n",
    "    return ChatGoogleGenerativeAI(\n",
    "        temperature=0,\n",
    "        max_output_tokens=512,\n",
    "        # model=\"gemini-2.0-flash\",\n",
    "        model=\"gemini-2.5-flash-preview-05-20\",\n",
    "        verbose=False,\n",
    "    )\n",
    "\n",
    "def get_groq_llm():\n",
    "    return ChatGroq(\n",
    "        model=\"qwen-qwq-32b\",\n",
    "        temperature=0,\n",
    "    )\n",
    "\n",
    "def get_chat_together_llm():\n",
    "    return ChatTogether(\n",
    "        api_key=os.getenv(\"TOGETHER_AI_API_KEY\"),\n",
    "        temperature=0.0,\n",
    "        model=\"meta-llama/Llama-3.3-70B-Instruct-Turbo-Free\"\n",
    "    )\n",
    "\n",
    "def get_openai_llm():\n",
    "    return ChatOpenAI(\n",
    "        model=\"gpt-4.1\",\n",
    "        temperature=0.0,\n",
    "        api_key=os.getenv(\"OPENAI_API_KEY\"),\n",
    "        verbose=False,\n",
    "    )\n"
   ]
  },
  {
   "cell_type": "code",
   "execution_count": 8,
   "id": "acc6ff96",
   "metadata": {},
   "outputs": [],
   "source": [
    "llm = get_openai_llm()"
   ]
  },
  {
   "cell_type": "code",
   "execution_count": 10,
   "id": "b860039a",
   "metadata": {},
   "outputs": [
    {
     "data": {
      "text/plain": [
       "AIMessage(content='The capital of France is Paris.', additional_kwargs={'refusal': None}, response_metadata={'token_usage': {'completion_tokens': 7, 'prompt_tokens': 14, 'total_tokens': 21, 'completion_tokens_details': {'accepted_prediction_tokens': 0, 'audio_tokens': 0, 'reasoning_tokens': 0, 'rejected_prediction_tokens': 0}, 'prompt_tokens_details': {'audio_tokens': 0, 'cached_tokens': 0}}, 'model_name': 'gpt-4o-2024-08-06', 'system_fingerprint': 'fp_07871e2ad8', 'finish_reason': 'stop', 'logprobs': None}, id='run--54b8a57c-94e5-4828-814f-2ff2d8f8e4c5-0', usage_metadata={'input_tokens': 14, 'output_tokens': 7, 'total_tokens': 21, 'input_token_details': {'audio': 0, 'cache_read': 0}, 'output_token_details': {'audio': 0, 'reasoning': 0}})"
      ]
     },
     "execution_count": 10,
     "metadata": {},
     "output_type": "execute_result"
    }
   ],
   "source": [
    "llm.invoke([\n",
    "    HumanMessage(content=\"What is the capital of France?\")\n",
    "])"
   ]
  },
  {
   "cell_type": "code",
   "execution_count": 6,
   "id": "ee1c1ce9",
   "metadata": {},
   "outputs": [],
   "source": [
    "llm_with_tools = llm.bind_tools(tools=tools)"
   ]
  },
  {
   "cell_type": "code",
   "execution_count": null,
   "id": "385ef796",
   "metadata": {},
   "outputs": [],
   "source": [
    "# System message\n",
    "sys_msg = SystemMessage(content=\"\"\"\n",
    "You are a helpful clinical psychotherapist\n",
    "\"\"\")\n"
   ]
  },
  {
   "cell_type": "code",
   "execution_count": null,
   "id": "6cf2858c",
   "metadata": {},
   "outputs": [],
   "source": [
    "TOOL_REGISTRY = {\n",
    "\n",
    "}\n",
    "\n",
    "\n",
    "\n",
    "\n",
    "# Node\n",
    "def assistant(state: MessagesState):\n",
    "    print(\"\\n🧠 [assistant node] Input messages:\")\n",
    "    for m in state[\"messages\"]:\n",
    "        print(f\"  - {m.type}: {m.content[:100]}\")\n",
    "    print(\"------------------------------\")\n",
    "    response = llm_with_tools.invoke([sys_msg] + state[\"messages\"])\n",
    "    print(\"🧠 [assistant node] Output:\", response.content[:300])\n",
    "    return {\"messages\": [response]}\n",
    "\n",
    "# # Node for tool parsing and execution\n",
    "# def tool_node_old(state: MessagesState) -> dict:\n",
    "#     last_msg = state[\"messages\"][-1].content\n",
    "#     matches = re.findall(\n",
    "#         r\"<tool_call>\\s*tool_name:\\s*(\\w+)\\s*parameters:\\s*({.*?})\\s*</tool_call>\",\n",
    "#         last_msg,\n",
    "#         re.DOTALL,\n",
    "#     )\n",
    "\n",
    "#     if not matches:\n",
    "#         return state\n",
    "\n",
    "#     tool_outputs = []\n",
    "#     for tool_name, params_json in matches:\n",
    "#         try:\n",
    "#             params = json.loads(params_json)\n",
    "#             tool_fn = TOOL_REGISTRY.get(tool_name)\n",
    "#             if tool_fn is None:\n",
    "#                 raise ValueError(f\"Unknown tool: {tool_name}\")\n",
    "#             result = tool_fn(**params)\n",
    "#             tool_outputs.append(f\"{tool_name} result: {result}\")\n",
    "#         except Exception as e:\n",
    "#             tool_outputs.append(f\"[Tool Error] {tool_name}: {e}. Tool execution halted. Do not retry this tool.\")\n",
    "\n",
    "#     return {\n",
    "#         \"messages\": state[\"messages\"] + [HumanMessage(content=\"\\n\".join(tool_outputs))]\n",
    "#     }\n",
    "\n",
    "# # Edge routing: if tool call detected, go to tools\n",
    "# def tools_condition_old(state: MessagesState) -> str:\n",
    "#     last_content = state[\"messages\"][-1].content\n",
    "#     print(f\"🧠 [tools condition] last_content: {last_content[:100]}\")\n",
    "#     if \"<tool_call>\" in last_content:\n",
    "#         return \"tools\"\n",
    "#     else:\n",
    "#         return END\n",
    "    \n",
    "def logger_node(state: MessagesState):\n",
    "    last_msg = state[\"messages\"][-1].content\n",
    "    print(f\"🧠 [logger node] last_msg: {last_msg[:100]}\")\n",
    "    # The \"a\" mode opens the file for appending, so new entries will be added to the end of the file.\n",
    "    with open(\"stock_prices.log\", \"a\") as f:\n",
    "        f.write(f\"{last_msg}\\n---\\n\")\n",
    "    return state\n"
   ]
  },
  {
   "cell_type": "code",
   "execution_count": null,
   "id": "c41114b3",
   "metadata": {},
   "outputs": [
    {
     "data": {
      "image/png": "[encoded data removed]",
      "text/plain": [
       "<IPython.core.display.Image object>"
      ]
     },
     "metadata": {},
     "output_type": "display_data"
    }
   ],
   "source": [
    "# Graph\n",
    "builder = StateGraph(MessagesState)\n",
    "\n",
    "# Define nodes: these do the work\n",
    "builder.add_node(\"assistant\", assistant)\n",
    "builder.add_node(\"tools\", ToolNode(tools))\n",
    "builder.add_node(\"logger_node\", logger_node)\n",
    "\n",
    "builder.add_edge(START, \"assistant\")\n",
    "\n",
    "builder.add_conditional_edges(\n",
    "    \"assistant\",\n",
    "    tools_condition,\n",
    "    {\n",
    "        \"tools\": \"tools\",\n",
    "        END: END\n",
    "    }\n",
    ")\n",
    "\n",
    "\n",
    "builder.add_edge(\"tools\", \"logger_node\")\n",
    "builder.add_edge(\"logger_node\", \"assistant\")\n",
    "\n",
    "react_graph = builder.compile()\n",
    "\n",
    "# Show\n",
    "display(Image(react_graph.get_graph(xray=True).draw_mermaid_png()))"
   ]
  },
  {
   "cell_type": "code",
   "execution_count": 25,
   "id": "d74495d5",
   "metadata": {},
   "outputs": [],
   "source": [
    "# res = react_graph.invoke({\"messages\": [HumanMessage(content=\"Hi there!, how are you?\")]})"
   ]
  },
  {
   "cell_type": "code",
   "execution_count": 1,
   "id": "e8c2c10b",
   "metadata": {},
   "outputs": [],
   "source": [
    "# res = react_graph.invoke({\"messages\": [HumanMessage(content=\"Hi there!, how are you?\")]})'\")]})"
   ]
  },
  {
   "cell_type": "code",
   "execution_count": 2,
   "id": "c9e2969d",
   "metadata": {},
   "outputs": [],
   "source": [
    "# res"
   ]
  },
  {
   "cell_type": "code",
   "execution_count": 3,
   "id": "8d2061b8",
   "metadata": {},
   "outputs": [],
   "source": [
    "# for m in res[\"messages\"]:\n",
    "#     m.pretty_print()"
   ]
  },
  {
   "cell_type": "code",
   "execution_count": null,
   "id": "73ca81fa",
   "metadata": {},
   "outputs": [],
   "source": []
  }
 ],
 "metadata": {
  "kernelspec": {
   "display_name": "base",
   "language": "python",
   "name": "python3"
  },
  "language_info": {
   "codemirror_mode": {
    "name": "ipython",
    "version": 3
   },
   "file_extension": ".py",
   "mimetype": "text/x-python",
   "name": "python",
   "nbconvert_exporter": "python",
   "pygments_lexer": "ipython3",
   "version": "3.12.2"
  }
 },
 "nbformat": 4,
 "nbformat_minor": 5
}
